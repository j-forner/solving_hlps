{
 "cells": [
  {
   "cell_type": "code",
   "execution_count": 6,
   "metadata": {},
   "outputs": [],
   "source": [
    "import numpy as np\n",
    "import gurobipy as gp\n",
    "from gurobipy import GRB"
   ]
  },
  {
   "attachments": {},
   "cell_type": "markdown",
   "metadata": {},
   "source": [
    "### Optimization Problems"
   ]
  },
  {
   "cell_type": "code",
   "execution_count": 17,
   "metadata": {},
   "outputs": [],
   "source": [
    "def solve_master():\n",
    "\n",
    "    # model\n",
    "    m = gp.Model()\n",
    "\n",
    "    # variables + objective function\n",
    "    z = m.addVars(i, q, obj = f, vtype = GRB.BINARY, name = \"z\")\n",
    "    eta = m.addVar(1, obj = 1)\n",
    "\n",
    "    # model sense\n",
    "    m.ModelSense = GRB.MINIMIZE\n",
    "\n",
    "    # constraints\n",
    "    m.addConstr(gp.quicksum(gp.quicksum(b[i, q] * z[i, q] for i in H) for q in Q) >= gp.quicksum(W[k] for k in K))\n",
    "    m.addConstrs(gp.quicksum(z[i, q]) <= 1 for i in H)\n",
    "\n",
    "    # update and solve the model\n",
    "    m.update()\n",
    "    m.optimize()\n",
    "\n",
    "    # optimal solution\n",
    "    for var in m.getVars():\n",
    "        print(f\"{var.VarName} = {var.x}\")\n",
    "\n",
    "    return None"
   ]
  },
  {
   "cell_type": "code",
   "execution_count": 16,
   "metadata": {},
   "outputs": [],
   "source": [
    "def solve_dual_subproblem():\n",
    "\n",
    "    # model\n",
    "    m = gp.Model()\n",
    "\n",
    "    # variables + objective function\n",
    "    alpha = m.addVars(k, obj = 1, name = \"alpha\")\n",
    "    u = m.addVars(i, k, obj = z_hat, lb = 0, name = \"u\")\n",
    "    v = m.addVars(i, obj = b * z_hat, lb = 0, name = \"v\")\n",
    "\n",
    "    # model sense\n",
    "    m.ModelSense = GRB.MAXIMIZE\n",
    "\n",
    "    # constraints\n",
    "    m.addConstrs(alpha[k] - u[a1][k] - u[a2][k] - W[k] * v[a1] <= F[a][k] for k in K for a in A_k_2)\n",
    "    m.addConstrs(alpha[k] - u[a1][k] - W[k] * v[a1] <= F[a][k] for k in K for a in A_k_1)\n",
    "\n",
    "    # update and solve the model\n",
    "    m.update()\n",
    "    m.optimize()\n",
    "\n",
    "    # optimal solution\n",
    "    for var in m.getVars():\n",
    "        print(f\"{var.VarName} = {var.x}\")\n",
    "\n",
    "\n",
    "    return None"
   ]
  },
  {
   "attachments": {},
   "cell_type": "markdown",
   "metadata": {},
   "source": [
    "### Algorithms"
   ]
  },
  {
   "cell_type": "code",
   "execution_count": 9,
   "metadata": {},
   "outputs": [],
   "source": [
    "def benders_decomp():\n",
    "    upper_bound = 0\n",
    "    t = 0\n",
    "    dual_extreme_pts = set()\n",
    "    terminate = False\n",
    "\n",
    "    while terminate == False:\n",
    "        phi = solver_master() # solve the master problem and obtain the optimal objective function value\n",
    "\n",
    "        if phi == upper_bound:\n",
    "            terminate = True\n",
    "        else:\n",
    "            dual_soln = solve_dual_subproblem()\n",
    "            dual_extreme_pts.add(dual_soln)\n",
    "\n",
    "            if opt_dual_value + ... < upper_bound:\n",
    "                upper_bound = opt_dual_value + ...\n",
    "\n",
    "        t += 1\n",
    "\n",
    "    return None"
   ]
  },
  {
   "cell_type": "code",
   "execution_count": 12,
   "metadata": {},
   "outputs": [],
   "source": [
    "def exact_nmchlp():\n",
    "    # Solve a problem\n",
    "    # Solve a problem\n",
    "\n",
    "\n",
    "    ub = min(min, phi, np.inf)\n",
    "\n",
    "    for i, q in zip(H(S*), Q_i(S*)):\n",
    "        z_iq = 0\n",
    "        # Solve problem\n",
    "\n",
    "        if phi(MP^T) > UB:\n",
    "            z_iq = 1\n",
    "        \n",
    "\n",
    "    for i, q in zip(H*, Q_i*):\n",
    "        z_iq = 1\n",
    "        # Solve MP^T\n",
    "\n",
    "        if phi(MP^T) > UB:\n",
    "            Q_i* = Q_i*.pop(q)\n",
    "\n",
    "            if len(Q_i*) == 0:\n",
    "                H* = H*.pop(i)\n",
    "\n",
    "    S = set((i, q) for i, q in zip(H*, Q_i*))\n",
    "\n",
    "    for S' subset S s.t. (19), (20) hold:\n",
    "        # Sovle GAP problem\n",
    "\n",
    "        if phi(GAP(z(S'))) < UB:\n",
    "            UB = phi(GAP(z(S')))\n",
    "                           \n",
    "    return None"
   ]
  }
 ],
 "metadata": {
  "kernelspec": {
   "display_name": "Python 3",
   "language": "python",
   "name": "python3"
  },
  "language_info": {
   "codemirror_mode": {
    "name": "ipython",
    "version": 3
   },
   "file_extension": ".py",
   "mimetype": "text/x-python",
   "name": "python",
   "nbconvert_exporter": "python",
   "pygments_lexer": "ipython3",
   "version": "3.9.13"
  },
  "orig_nbformat": 4
 },
 "nbformat": 4,
 "nbformat_minor": 2
}
