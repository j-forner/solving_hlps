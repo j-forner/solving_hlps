{
 "cells": [
  {
   "attachments": {},
   "cell_type": "markdown",
   "metadata": {},
   "source": [
    "### Imports"
   ]
  },
  {
   "cell_type": "code",
   "execution_count": 3,
   "metadata": {},
   "outputs": [],
   "source": [
    "import numpy as np\n",
    "import gurobipy as gp\n",
    "from gurobipy import GRB"
   ]
  },
  {
   "cell_type": "code",
   "execution_count": 4,
   "metadata": {},
   "outputs": [],
   "source": [
    "%run \"./instance.ipynb\""
   ]
  },
  {
   "attachments": {},
   "cell_type": "markdown",
   "metadata": {},
   "source": [
    "### Optimization Problems"
   ]
  },
  {
   "cell_type": "code",
   "execution_count": 73,
   "metadata": {},
   "outputs": [],
   "source": [
    "def solve_master(potential_hubs, capacity_levels, new_hub_capacities, fixed_set_up_costs_with_capacity_level, commodities):\n",
    "\n",
    "\n",
    "    # suppress Gurobi output\n",
    "    environment = gp.Env(empty = True)\n",
    "    environment.setParam(\"OutputFlag\", 0)\n",
    "    environment.start()\n",
    "\n",
    "    # model\n",
    "    master = gp.Model('master', env = environment)\n",
    "\n",
    "    # variables + objective function\n",
    "    z = master.addVars(potential_hubs, capacity_levels, obj = fixed_set_up_costs_with_capacity_level, vtype = GRB.BINARY, name = \"z\")\n",
    "    eta = master.addVar(1, obj = 1, name = 'eta')\n",
    "\n",
    "    # model sense\n",
    "    master.ModelSense = GRB.MINIMIZE\n",
    "\n",
    "    # constraints\n",
    "    master.addConstr(gp.quicksum(gp.quicksum(new_hub_capacities[i, q] * z[i, q] for i in potential_hubs) for q in capacity_levels) >= gp.quicksum(demand_flattened[k - 1] for k in commodities))\n",
    "    master.addConstrs(gp.quicksum(z[i, q] for q in capacity_levels) <= 1 for i in potential_hubs)\n",
    "\n",
    "    # update and solve the model\n",
    "    master.update()\n",
    "    # master.write('master.lp')\n",
    "    master.optimize()\n",
    "\n",
    "    z_hat = {}\n",
    "\n",
    "    for i in potential_hubs:\n",
    "        for q in capacity_levels:\n",
    "            z_hat[(i, q)] = z[i, q].X\n",
    "\n",
    "    master_opt_val = master.ObjVal\n",
    "\n",
    "    return z_hat, master_opt_val"
   ]
  },
  {
   "cell_type": "code",
   "execution_count": 76,
   "metadata": {},
   "outputs": [],
   "source": [
    "# z_hat, master_opt_val = solve_master(potential_hubs, capacity_levels, new_hub_capacities, fixed_set_up_costs_with_capacity_level, commodities)"
   ]
  },
  {
   "cell_type": "code",
   "execution_count": 62,
   "metadata": {},
   "outputs": [],
   "source": [
    "def solve_dsp(z_hat, potential_hubs, new_hub_capacities, commodities):\n",
    "\n",
    "\n",
    "    # suppress Gurobi output\n",
    "    environment = gp.Env(empty = True)\n",
    "    environment.setParam(\"OutputFlag\", 0)\n",
    "    environment.start()\n",
    "\n",
    "    # model\n",
    "    dsp = gp.Model('dsp', env = environment)\n",
    "\n",
    "    # variables + objective function\n",
    "    alpha = dsp.addVars(commodities, name = \"alpha\")\n",
    "    u = dsp.addVars(potential_hubs, commodities, lb = 0, name = \"u\")\n",
    "    v = dsp.addVars(potential_hubs, lb = 0, name = \"v\")\n",
    "\n",
    "    obj = gp.quicksum(alpha[k] for k in commodities) - gp.quicksum(z_hat[i, q] * u[i, k] for q in capacity_levels for i in potential_hubs for k in commodities) - gp.quicksum(new_hub_capacities[i, q] * z_hat[i, q] * v[i] for q in capacity_levels for i in potential_hubs)\n",
    "\n",
    "    dsp.setObjective(obj)\n",
    "\n",
    "    # model sense\n",
    "    dsp.ModelSense = GRB.MAXIMIZE\n",
    "\n",
    "    # constraints\n",
    "    for i in potential_hubs:\n",
    "        for j in potential_hubs:\n",
    "            for k in commodities:\n",
    "\n",
    "                if i != j:\n",
    "                    dsp.addConstr(alpha[k] - u[i, k] - u[j, k] - demand_flattened[k - 1] * v[i] <= cost_of_route(i, j, k))\n",
    "\n",
    "                dsp.addConstr(alpha[k] - u[i, k] - demand_flattened[k - 1] * v[i] <= cost_of_route(i, i, k))\n",
    "\n",
    "    # update and solve the model\n",
    "    dsp.update()\n",
    "    dsp.write('dsp.lp')\n",
    "    dsp.optimize()\n",
    "\n",
    "    alpha_vals = {}\n",
    "    u_vals = {}\n",
    "    v_vals = {}\n",
    "\n",
    "    for i in potential_hubs:\n",
    "        for k in commodities:\n",
    "            v_vals[i] = v[i].X\n",
    "            alpha_vals[k] = alpha[k].X\n",
    "            u_vals[i, k] = u[i, k].X\n",
    "\n",
    "    dsp_opt_val = dsp.ObjVal\n",
    "\n",
    "    return alpha_vals, u_vals, v_vals, dsp_opt_val"
   ]
  },
  {
   "cell_type": "code",
   "execution_count": 85,
   "metadata": {},
   "outputs": [],
   "source": [
    "alpha, u, v, dsp_opt_val = solve_dsp(z_hat, potential_hubs, new_hub_capacities, commodities)"
   ]
  },
  {
   "attachments": {},
   "cell_type": "markdown",
   "metadata": {},
   "source": [
    "### Algorithm"
   ]
  },
  {
   "cell_type": "code",
   "execution_count": 133,
   "metadata": {},
   "outputs": [],
   "source": [
    "def setup_cost_from_master(potential_hubs, capacity_levels, fixed_set_up_costs_with_capacity_level, z_hat):\n",
    "\n",
    "    sum = 0\n",
    "\n",
    "    for i in potential_hubs:\n",
    "        for q in capacity_levels:\n",
    "            sum += fixed_set_up_costs_with_capacity_level[i, q] * z_hat[i, q]\n",
    "\n",
    "    return sum"
   ]
  },
  {
   "cell_type": "code",
   "execution_count": 136,
   "metadata": {},
   "outputs": [],
   "source": [
    "def benders_decomp():\n",
    "    \n",
    "    upper_bound = np.inf\n",
    "    t = 0\n",
    "    dsp_extreme_pts = []\n",
    "    terminate = False\n",
    "\n",
    "    print(upper_bound)\n",
    "\n",
    "    while (terminate == False) & (t <= 10):\n",
    "        z_hat, master_opt_val = solve_master(potential_hubs, capacity_levels, new_hub_capacities, fixed_set_up_costs_with_capacity_level, commodities)\n",
    "\n",
    "        if master_opt_val == upper_bound:\n",
    "            terminate = True\n",
    "        else:\n",
    "            alpha, u, v, dsp_opt_val = solve_dsp(z_hat, potential_hubs, new_hub_capacities, commodities) # <---\n",
    "            master.addConstr(z[1, 2] + z[1, 3] <= 1) # <---\n",
    "\n",
    "            if dsp_opt_val + setup_cost_from_master(potential_hubs, capacity_levels, fixed_set_up_costs_with_capacity_level, z_hat) < upper_bound:\n",
    "                upper_bound = dsp_opt_val + setup_cost_from_master(potential_hubs, capacity_levels, fixed_set_up_costs_with_capacity_level, z_hat)\n",
    "\n",
    "        \n",
    "        t += 1\n",
    "\n",
    "    return None # benders_opt_soln"
   ]
  }
 ],
 "metadata": {
  "kernelspec": {
   "display_name": "Python 3",
   "language": "python",
   "name": "python3"
  },
  "language_info": {
   "codemirror_mode": {
    "name": "ipython",
    "version": 3
   },
   "file_extension": ".py",
   "mimetype": "text/x-python",
   "name": "python",
   "nbconvert_exporter": "python",
   "pygments_lexer": "ipython3",
   "version": "3.10.11"
  },
  "orig_nbformat": 4
 },
 "nbformat": 4,
 "nbformat_minor": 2
}
