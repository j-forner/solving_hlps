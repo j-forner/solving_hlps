{
 "cells": [
  {
   "cell_type": "code",
   "execution_count": 1,
   "metadata": {},
   "outputs": [],
   "source": [
    "import numpy as np\n",
    "import gurobipy as gp\n",
    "from gurobipy import GRB"
   ]
  },
  {
   "attachments": {},
   "cell_type": "markdown",
   "metadata": {},
   "source": [
    "### Preprocessing"
   ]
  },
  {
   "cell_type": "code",
   "execution_count": 2,
   "metadata": {},
   "outputs": [],
   "source": [
    "def euclidean_dist(a, b):\n",
    "    return np.sqrt((b[0] - a[0]) ** 2 + (b[1] - a[1]) ** 2)"
   ]
  },
  {
   "attachments": {},
   "cell_type": "markdown",
   "metadata": {},
   "source": [
    "### Optimization Problems"
   ]
  },
  {
   "cell_type": "code",
   "execution_count": 2,
   "metadata": {},
   "outputs": [],
   "source": [
    "def solve_master():\n",
    "\n",
    "    # model\n",
    "    master = gp.Model()\n",
    "\n",
    "    # variables + objective function\n",
    "    z = master.addVars(i, q, obj = f, vtype = GRB.BINARY, name = \"z\")\n",
    "    eta = master.addVar(1, obj = 1)\n",
    "\n",
    "    # model sense\n",
    "    master.ModelSense = GRB.MINIMIZE\n",
    "\n",
    "    # constraints (do I need Benders constraints at this point)\n",
    "    master.addConstr(gp.quicksum(gp.quicksum(b[i, q] * z[i, q] for i in H) for q in Q) >= gp.quicksum(W[k] for k in K))\n",
    "    master.addConstrs(gp.quicksum(z[i, q]) <= 1 for i in H)\n",
    "\n",
    "    # update and solve the model\n",
    "    master.update()\n",
    "    master.optimize()\n",
    "\n",
    "    # optimal solution\n",
    "    for var in master.getVars():\n",
    "        print(f\"{var.VarName} = {var.x}\")\n",
    "\n",
    "    return None # master_opt_soln, master_opt_val"
   ]
  },
  {
   "cell_type": "code",
   "execution_count": 3,
   "metadata": {},
   "outputs": [],
   "source": [
    "def solve_dsp():\n",
    "\n",
    "    # model\n",
    "    dsp = gp.Model()\n",
    "\n",
    "    # variables + objective function\n",
    "    alpha = dsp.addVars(k, obj = 1, name = \"alpha\")\n",
    "    u = dsp.addVars(i, k, obj = z_hat, lb = 0, name = \"u\")\n",
    "    v = dsp.addVars(i, obj = b * z_hat, lb = 0, name = \"v\")\n",
    "\n",
    "    # model sense\n",
    "    dsp.ModelSense = GRB.MAXIMIZE\n",
    "\n",
    "    # constraints\n",
    "    dsp.addConstrs(alpha[k] - u[a1][k] - u[a2][k] - W[k] * v[a1] <= F[a][k] for k in K for a in A_k_2)                             \n",
    "    dsp.addConstrs(alpha[k] - u[a1][k] - W[k] * v[a1] <= F[a][k] for k in K for a in A_k_1)\n",
    "\n",
    "    # update and solve the model\n",
    "    dsp.update()\n",
    "    dsp.optimize()\n",
    "\n",
    "    # optimal solution\n",
    "    for var in dsp.getVars():\n",
    "        print(f\"{var.VarName} = {var.x}\")\n",
    "\n",
    "\n",
    "    return None # dsp_opt_soln, dsp_opt_val"
   ]
  },
  {
   "cell_type": "code",
   "execution_count": 6,
   "metadata": {},
   "outputs": [],
   "source": [
    "def solve_gap():\n",
    "\n",
    "    # model\n",
    "    gap = gp.Model()\n",
    "\n",
    "    # variables + objective function\n",
    "    x_hat = gap.addVars(a_i[k], k, obj = F, vtype = GRB.BINARY, name = \"x_hat\")\n",
    "\n",
    "    # model sense\n",
    "    gap.ModelSense = GRB.MINIMIZE\n",
    "\n",
    "    # constraints\n",
    "    gap.addConstrs(x[a_i[k]][k] == 1 for k in K)\n",
    "    gap.addConstrs(gp.quicksum(W[k] * x[a_i[k]][k] for k in K) <= b[i][q_hat] for i in H(S_prime))\n",
    "\n",
    "    # update and solve the model\n",
    "    gap.update()\n",
    "    gap.optimize()\n",
    "\n",
    "    # optimal solution\n",
    "    for var in gap.getVars():\n",
    "        print(f\"{var.VarName} = {var.x}\")\n",
    "\n",
    "\n",
    "    return None # gap_opt_soln, gap_opt_val\n"
   ]
  },
  {
   "attachments": {},
   "cell_type": "markdown",
   "metadata": {},
   "source": [
    "### Algorithms"
   ]
  },
  {
   "cell_type": "code",
   "execution_count": 7,
   "metadata": {},
   "outputs": [],
   "source": [
    "def benders_decomp():\n",
    "    upper_bound = 0\n",
    "    t = 0\n",
    "    dsp_extreme_pts = set()\n",
    "    terminate = False\n",
    "\n",
    "    while terminate == False:\n",
    "        master_opt_soln, master_opt_val = solver_master() \n",
    "\n",
    "        if master_opt_val == upper_bound:\n",
    "            terminate = True\n",
    "        else:\n",
    "            dsp_opt_soln, dsp_opt_val = solve_dual_subproblem()\n",
    "            dsp_extreme_pts.add(dsp_opt_soln)\n",
    "\n",
    "            if dsp_opt_val + ... < upper_bound:\n",
    "                upper_bound = dsp_opt_val + ...\n",
    "\n",
    "        t += 1\n",
    "\n",
    "    return None # benders_opt_soln"
   ]
  },
  {
   "cell_type": "code",
   "execution_count": 12,
   "metadata": {},
   "outputs": [],
   "source": [
    "# def exact_nmchlp():\n",
    "#     master_opt_soln, master_opt_val = solver_master()\n",
    "#     gap_opt_soln, gap_opt_val = solver_master()\n",
    "#     upper_bound = min(min[...], gap_opt_soln, np.inf)\n",
    "\n",
    "#     for i, q in zip(H(S*), Q_i(S*)):\n",
    "#         z_iq = 0\n",
    "#         master_opt_soln, master_opt_val = solver_master()\n",
    "\n",
    "#         if master_opt_val > upper_bound:\n",
    "#             z_iq = 1\n",
    "        \n",
    "#     for i, q in zip(H*, Q_i*):\n",
    "#         z_iq = 1\n",
    "#         master_opt_soln, master_opt_val = solver_master()\n",
    "\n",
    "#         if master_opt_val > upper_bound:\n",
    "#             Q_i* = Q_i*.pop(q)\n",
    "\n",
    "#             if len(Q_i*) == 0:\n",
    "#                 H* = H*.pop(i)\n",
    "\n",
    "#     S = set((i, q) for i, q in zip(H*, Q_i*))\n",
    "\n",
    "#     for S' subset S s.t. (19), (20) hold:\n",
    "#         # Sovle GAP problem\n",
    "\n",
    "#         if phi(GAP(z(S'))) < UB:\n",
    "#             UB = phi(GAP(z(S')))\n",
    "                           \n",
    "#     return None"
   ]
  }
 ],
 "metadata": {
  "kernelspec": {
   "display_name": "Python 3",
   "language": "python",
   "name": "python3"
  },
  "language_info": {
   "codemirror_mode": {
    "name": "ipython",
    "version": 3
   },
   "file_extension": ".py",
   "mimetype": "text/x-python",
   "name": "python",
   "nbconvert_exporter": "python",
   "pygments_lexer": "ipython3",
   "version": "3.10.11"
  },
  "orig_nbformat": 4
 },
 "nbformat": 4,
 "nbformat_minor": 2
}
