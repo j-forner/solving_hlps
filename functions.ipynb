{
 "cells": [
  {
   "attachments": {},
   "cell_type": "markdown",
   "metadata": {},
   "source": [
    "### Imports"
   ]
  },
  {
   "cell_type": "code",
   "execution_count": 3,
   "metadata": {},
   "outputs": [],
   "source": [
    "import numpy as np\n",
    "import gurobipy as gp\n",
    "from gurobipy import GRB"
   ]
  },
  {
   "cell_type": "code",
   "execution_count": 405,
   "metadata": {},
   "outputs": [],
   "source": [
    "%run \"./instance_10.ipynb\""
   ]
  },
  {
   "cell_type": "code",
   "execution_count": null,
   "metadata": {},
   "outputs": [],
   "source": [
    "# %run \"./instance_20.ipynb\""
   ]
  },
  {
   "cell_type": "code",
   "execution_count": null,
   "metadata": {},
   "outputs": [],
   "source": [
    "# %run \"./instance_40.ipynb\""
   ]
  },
  {
   "attachments": {},
   "cell_type": "markdown",
   "metadata": {},
   "source": [
    "### Optimization Problems"
   ]
  },
  {
   "cell_type": "code",
   "execution_count": 406,
   "metadata": {},
   "outputs": [],
   "source": [
    "### Master Problem ###\n",
    "\n",
    "# suppress Gurobi output\n",
    "environment = gp.Env(empty = True)\n",
    "environment.setParam(\"OutputFlag\", 0)\n",
    "environment.start()\n",
    "\n",
    "# model\n",
    "master = gp.Model('master', env = environment)\n",
    "\n",
    "# variables + objective function\n",
    "z = master.addVars(potential_hubs, capacity_levels, obj = fixed_set_up_costs_with_capacity_level, vtype = GRB.BINARY, name = \"z\")\n",
    "eta = master.addVar(1, obj = 1, name = 'eta')\n",
    "\n",
    "# model sense\n",
    "master.ModelSense = GRB.MINIMIZE\n",
    "\n",
    "# constraints\n",
    "master.addConstr(gp.quicksum(gp.quicksum(new_hub_capacities[i, q] * z[i, q] for i in potential_hubs) for q in capacity_levels) >= gp.quicksum(demand_flattened[k - 1] for k in commodities));\n",
    "master.addConstrs(gp.quicksum(z[i, q] for q in capacity_levels) <= 1 for i in potential_hubs);"
   ]
  },
  {
   "cell_type": "code",
   "execution_count": 407,
   "metadata": {},
   "outputs": [],
   "source": [
    "def solve_master():\n",
    "\n",
    "    # update and solve the model\n",
    "    master.update()\n",
    "    master.write('master.lp')\n",
    "    master.optimize()\n",
    "\n",
    "    z_hat = {}\n",
    "\n",
    "    for i in potential_hubs:\n",
    "        for q in capacity_levels:\n",
    "            z_hat[(i, q)] = z[i, q].X\n",
    "\n",
    "    master_opt_val = master.ObjVal\n",
    "\n",
    "    return z_hat, master_opt_val"
   ]
  },
  {
   "cell_type": "code",
   "execution_count": 408,
   "metadata": {},
   "outputs": [],
   "source": [
    "def solve_dsp(z_hat):\n",
    "\n",
    "    # suppress Gurobi output\n",
    "    environment = gp.Env(empty = True)\n",
    "    environment.setParam(\"OutputFlag\", 0)\n",
    "    environment.start()\n",
    "\n",
    "    # model\n",
    "    dsp = gp.Model('dsp', env = environment)\n",
    "\n",
    "    # variables + objective function\n",
    "    alpha = dsp.addVars(commodities, name = \"alpha\")\n",
    "    u = dsp.addVars(potential_hubs, commodities, lb = 0, name = \"u\")\n",
    "    v = dsp.addVars(potential_hubs, lb = 0, name = \"v\")\n",
    "\n",
    "    obj = gp.quicksum(alpha[k] for k in commodities) - gp.quicksum(z_hat[i, q] * u[i, k] for q in capacity_levels for i in potential_hubs for k in commodities) - gp.quicksum(new_hub_capacities[i, q] * z_hat[i, q] * v[i] for q in capacity_levels for i in potential_hubs)\n",
    "\n",
    "    dsp.setObjective(obj)\n",
    "\n",
    "    # model sense\n",
    "    dsp.ModelSense = GRB.MAXIMIZE\n",
    "\n",
    "    # constraints\n",
    "    for i in potential_hubs:\n",
    "        for j in potential_hubs:\n",
    "            for k in commodities:\n",
    "\n",
    "                if i != j:\n",
    "                    dsp.addConstr(alpha[k] - u[i, k] - u[j, k] - demand_flattened[k - 1] * v[i] <= cost_of_route(i, j, k))\n",
    "                dsp.addConstr(alpha[k] - u[i, k] - demand_flattened[k - 1] * v[i] <= cost_of_route(i, i, k))\n",
    "\n",
    "    # update and solve the model\n",
    "    dsp.update()\n",
    "    dsp.write('dsp.lp')\n",
    "    dsp.optimize()\n",
    "\n",
    "    alpha_vals = {}\n",
    "    u_vals = {}\n",
    "    v_vals = {}\n",
    "\n",
    "    for i in potential_hubs:\n",
    "        for k in commodities:\n",
    "            v_vals[i] = v[i].X\n",
    "            alpha_vals[k] = alpha[k].X\n",
    "            u_vals[i, k] = u[i, k].X\n",
    "\n",
    "    dsp_opt_val = dsp.ObjVal\n",
    "\n",
    "    return alpha_vals, u_vals, v_vals, dsp_opt_val"
   ]
  },
  {
   "attachments": {},
   "cell_type": "markdown",
   "metadata": {},
   "source": [
    "### Algorithm"
   ]
  },
  {
   "cell_type": "code",
   "execution_count": 409,
   "metadata": {},
   "outputs": [],
   "source": [
    "def setup_cost_from_master(potential_hubs, capacity_levels, fixed_set_up_costs_with_capacity_level, z_hat):\n",
    "\n",
    "    sum = 0\n",
    "\n",
    "    for i in potential_hubs:\n",
    "        for q in capacity_levels:\n",
    "            sum += fixed_set_up_costs_with_capacity_level[i, q] * z_hat[i, q]\n",
    "\n",
    "    return sum"
   ]
  },
  {
   "cell_type": "code",
   "execution_count": 410,
   "metadata": {},
   "outputs": [],
   "source": [
    "def benders_decomp():\n",
    "    \n",
    "    upper_bound = np.inf\n",
    "    t = 0\n",
    "    dsp_extreme_pts = []\n",
    "    terminate = False\n",
    "\n",
    "    # print(f\"upper_bound at iteration {t}: {upper_bound}\")\n",
    "\n",
    "    while (terminate == False) & (t <= 1000):\n",
    "        z_hat, master_opt_val = solve_master()\n",
    "\n",
    "        if master_opt_val == upper_bound:\n",
    "            # print(f\"Done at {t} steps\")\n",
    "            terminate = True\n",
    "        else:\n",
    "            alpha_new, u_new, v_new, dsp_opt_val = solve_dsp(z_hat)\n",
    "            master.addConstr(eta >= gp.quicksum(alpha_new[k] for k in commodities) \n",
    "                                  - gp.quicksum(z[i, q] * u_new[i, k] for q in capacity_levels for i in potential_hubs for k in commodities)\n",
    "                                  - gp.quicksum(new_hub_capacities[i, q] * z[i, q] * v_new[i] for q in capacity_levels for i in potential_hubs))\n",
    "\n",
    "            if dsp_opt_val + setup_cost_from_master(potential_hubs, capacity_levels, fixed_set_up_costs_with_capacity_level, z_hat) < upper_bound:\n",
    "                upper_bound = dsp_opt_val + setup_cost_from_master(potential_hubs, capacity_levels, fixed_set_up_costs_with_capacity_level, z_hat)\n",
    "\n",
    "        t += 1\n",
    "        # print(f\"upper_bound at iteration {t}: {upper_bound}\")\n",
    "\n",
    "    return z_hat, upper_bound"
   ]
  },
  {
   "cell_type": "code",
   "execution_count": 411,
   "metadata": {},
   "outputs": [],
   "source": [
    "z_hat, upper_bound = benders_decomp()"
   ]
  },
  {
   "cell_type": "code",
   "execution_count": 412,
   "metadata": {},
   "outputs": [
    {
     "data": {
      "text/plain": [
       "{(1, 1): 1.0,\n",
       " (1, 2): 0.0,\n",
       " (1, 3): 0.0,\n",
       " (2, 1): 1.0,\n",
       " (2, 2): 0.0,\n",
       " (2, 3): 0.0,\n",
       " (3, 1): 1.0,\n",
       " (3, 2): 0.0,\n",
       " (3, 3): 0.0,\n",
       " (4, 1): 1.0,\n",
       " (4, 2): 0.0,\n",
       " (4, 3): 0.0,\n",
       " (5, 1): 1.0,\n",
       " (5, 2): 0.0,\n",
       " (5, 3): 0.0,\n",
       " (6, 1): 1.0,\n",
       " (6, 2): 0.0,\n",
       " (6, 3): 0.0,\n",
       " (7, 1): 1.0,\n",
       " (7, 2): 0.0,\n",
       " (7, 3): 0.0,\n",
       " (8, 1): 1.0,\n",
       " (8, 2): 0.0,\n",
       " (8, 3): 0.0,\n",
       " (9, 1): 1.0,\n",
       " (9, 2): 0.0,\n",
       " (9, 3): 0.0,\n",
       " (10, 1): 1.0,\n",
       " (10, 2): 0.0,\n",
       " (10, 3): 0.0}"
      ]
     },
     "execution_count": 412,
     "metadata": {},
     "output_type": "execute_result"
    }
   ],
   "source": [
    "z_hat"
   ]
  },
  {
   "cell_type": "code",
   "execution_count": 4,
   "metadata": {},
   "outputs": [],
   "source": [
    "# for hub_capacity_pair in z_hat.keys():\n",
    "#     print(z_hat{hub_capacity_pair})"
   ]
  }
 ],
 "metadata": {
  "kernelspec": {
   "display_name": "Python 3",
   "language": "python",
   "name": "python3"
  },
  "language_info": {
   "codemirror_mode": {
    "name": "ipython",
    "version": 3
   },
   "file_extension": ".py",
   "mimetype": "text/x-python",
   "name": "python",
   "nbconvert_exporter": "python",
   "pygments_lexer": "ipython3",
   "version": "3.11.3"
  },
  "orig_nbformat": 4
 },
 "nbformat": 4,
 "nbformat_minor": 2
}
