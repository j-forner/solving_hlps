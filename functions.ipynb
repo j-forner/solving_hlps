{
 "cells": [
  {
   "cell_type": "code",
   "execution_count": 11,
   "metadata": {},
   "outputs": [],
   "source": [
    "import numpy as np"
   ]
  },
  {
   "cell_type": "code",
   "execution_count": 9,
   "metadata": {},
   "outputs": [],
   "source": [
    "def benders_decomp():\n",
    "    ub = 0\n",
    "    t = 0\n",
    "    Pdt = set()\n",
    "    terminate = False\n",
    "\n",
    "    while terminate == False:\n",
    "        # solve problem\n",
    "\n",
    "        if TODO:\n",
    "            terminate = True\n",
    "        else:\n",
    "            # Solve DS\n",
    "            # Pdt.add(dual_point)\n",
    "            if TODO:\n",
    "                # TODO\n",
    "        t += 1\n",
    "\n",
    "    return None"
   ]
  },
  {
   "cell_type": "code",
   "execution_count": 12,
   "metadata": {},
   "outputs": [],
   "source": [
    "def exact_nmchlp():\n",
    "    # Solve a problem\n",
    "    # Solve a problem\n",
    "\n",
    "\n",
    "    ub = min(min, phi, np.inf)\n",
    "\n",
    "    for i, q in zip(H(S*), Q_i(S*)):\n",
    "        z_iq = 0\n",
    "        # Solve problem\n",
    "\n",
    "        if phi(MP^T) > UB:\n",
    "            z_iq = 1\n",
    "        \n",
    "\n",
    "    for i, q in zip(H*, Q_i*):\n",
    "        z_iq = 1\n",
    "        # Solve MP^T\n",
    "\n",
    "        if phi(MP^T) > UB:\n",
    "            Q_i* = Q_i*.pop(q)\n",
    "\n",
    "            if len(Q_i*) == 0:\n",
    "                H* = H*.pop(i)\n",
    "\n",
    "    S = set((i, q) for i, q in zip(H*, Q_i*))\n",
    "\n",
    "    for S' subset S s.t. (19), (20) hold:\n",
    "        # Sovle GAP problem\n",
    "\n",
    "        if phi(GAP(z(S'))) < UB:\n",
    "            UB = phi(GAP(z(S')))\n",
    "                           \n",
    "    return None"
   ]
  }
 ],
 "metadata": {
  "kernelspec": {
   "display_name": "Python 3",
   "language": "python",
   "name": "python3"
  },
  "language_info": {
   "codemirror_mode": {
    "name": "ipython",
    "version": 3
   },
   "file_extension": ".py",
   "mimetype": "text/x-python",
   "name": "python",
   "nbconvert_exporter": "python",
   "pygments_lexer": "ipython3",
   "version": "3.10.11"
  },
  "orig_nbformat": 4
 },
 "nbformat": 4,
 "nbformat_minor": 2
}
