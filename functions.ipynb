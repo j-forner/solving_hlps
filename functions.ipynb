{
 "cells": [
  {
   "attachments": {},
   "cell_type": "markdown",
   "metadata": {},
   "source": [
    "### Imports"
   ]
  },
  {
   "cell_type": "code",
   "execution_count": 2,
   "metadata": {},
   "outputs": [],
   "source": [
    "import numpy as np\n",
    "import gurobipy as gp\n",
    "from gurobipy import GRB"
   ]
  },
  {
   "cell_type": "code",
   "execution_count": 3,
   "metadata": {},
   "outputs": [],
   "source": [
    "%run \"./instance.ipynb\""
   ]
  },
  {
   "attachments": {},
   "cell_type": "markdown",
   "metadata": {},
   "source": [
    "### Optimization Problems"
   ]
  },
  {
   "cell_type": "code",
   "execution_count": 134,
   "metadata": {},
   "outputs": [],
   "source": [
    "def solve_master(potential_hubs, capacity_levels, new_hub_capacities, fixed_set_up_costs_with_capacity_level, commodities):\n",
    "\n",
    "\n",
    "    # suppress Gurobi output\n",
    "    environment = gp.Env(empty = True)\n",
    "    environment.setParam(\"OutputFlag\", 0)\n",
    "    environment.start()\n",
    "\n",
    "    # model\n",
    "    master = gp.Model('master', env = environment)\n",
    "\n",
    "    # variables + objective function\n",
    "    z = master.addVars(potential_hubs, capacity_levels, obj = fixed_set_up_costs_with_capacity_level, vtype = GRB.BINARY, name = \"z\")\n",
    "    eta = master.addVar(1, obj = 1, name = 'eta')\n",
    "\n",
    "    # model sense\n",
    "    master.ModelSense = GRB.MINIMIZE\n",
    "\n",
    "    # constraints\n",
    "    master.addConstr(gp.quicksum(gp.quicksum(new_hub_capacities[i, q] * z[i, q] for i in potential_hubs) for q in capacity_levels) >= gp.quicksum(demand_flattened[k - 1] for k in commodities))\n",
    "    master.addConstrs(gp.quicksum(z[i, q] for q in capacity_levels) <= 1 for i in potential_hubs)\n",
    "\n",
    "    # update and solve the model\n",
    "    master.update()\n",
    "    master.optimize()\n",
    "\n",
    "    z_hat = {}\n",
    "\n",
    "    for i in potential_hubs:\n",
    "        for q in capacity_levels:\n",
    "            z_hat[(i, q)] = z[i, q].X\n",
    "\n",
    "    master_opt_val = master.ObjVal\n",
    "\n",
    "    return z_hat, master_opt_val"
   ]
  },
  {
   "cell_type": "code",
   "execution_count": 136,
   "metadata": {},
   "outputs": [],
   "source": [
    "z_hat = solve_master(potential_hubs, capacity_levels, new_hub_capacities, fixed_set_up_costs_with_capacity_level, commodities)[0]\n",
    "master_opt_val = solve_master(potential_hubs, capacity_levels, new_hub_capacities, fixed_set_up_costs_with_capacity_level, commodities)[1]"
   ]
  },
  {
   "cell_type": "code",
   "execution_count": 208,
   "metadata": {},
   "outputs": [],
   "source": [
    "def solve_dsp(z_hat, potential_hubs, new_hub_capacities, commodities):\n",
    "\n",
    "\n",
    "    # suppress Gurobi output\n",
    "    environment = gp.Env(empty = True)\n",
    "    environment.setParam(\"OutputFlag\", 0)\n",
    "    environment.start()\n",
    "\n",
    "    # model\n",
    "    dsp = gp.Model('dsp', env = environment)\n",
    "\n",
    "    # variables + objective function\n",
    "    alpha = dsp.addVars(commodities, name = \"alpha\")\n",
    "    u = dsp.addVars(potential_hubs, commodities, lb = 0, name = \"u\")\n",
    "    v = dsp.addVars(potential_hubs, lb = 0, name = \"v\")\n",
    "\n",
    "    obj = gp.quicksum(alpha[k] for k in commodities) - gp.quicksum(z_hat[i, q] * u[i, k] for q in capacity_levels for i in potential_hubs for k in commodities) - gp.quicksum(new_hub_capacities[i, q] * z_hat[i, q] * v[i] for q in capacity_levels for i in potential_hubs)\n",
    "\n",
    "    dsp.setObjective(obj)\n",
    "\n",
    "    # model sense\n",
    "    dsp.ModelSense = GRB.MAXIMIZE\n",
    "\n",
    "    # constraints\n",
    "    for i in potential_hubs:\n",
    "        for j in potential_hubs:\n",
    "            for k in commodities:\n",
    "                dsp.addConstr(alpha[k] - u[i, k] - u[j, k] - demand_flattened[k - 1] * v[i] <= cost_of_route(i, j, k))\n",
    "                dsp.addConstr(alpha[k] - u[i, k] - demand_flattened[k - 1] * v[i] <= cost_of_route(i, j, k))\n",
    "\n",
    "    # update and solve the model\n",
    "    dsp.update()\n",
    "    dsp.write(\"solve_dsp.lp\")\n",
    "    dsp.optimize()\n",
    "\n",
    "    # optimal solution\n",
    "    for var in dsp.getVars():\n",
    "        print(f\"{var.VarName} = {var.x}\")\n",
    "\n",
    "    return None # dsp_opt_soln, dsp_opt_val"
   ]
  },
  {
   "cell_type": "code",
   "execution_count": 209,
   "metadata": {},
   "outputs": [
    {
     "ename": "GurobiError",
     "evalue": "Model too large for size-limited license; visit https://www.gurobi.com/free-trial for a full license",
     "output_type": "error",
     "traceback": [
      "\u001b[1;31m---------------------------------------------------------------------------\u001b[0m",
      "\u001b[1;31mGurobiError\u001b[0m                               Traceback (most recent call last)",
      "\u001b[1;32mc:\\Users\\48919629\\Desktop\\smu\\spring 23\\advanced logistics networks\\project\\solving_hlps\\functions.ipynb Cell 11\u001b[0m in \u001b[0;36m<cell line: 1>\u001b[1;34m()\u001b[0m\n\u001b[1;32m----> <a href='vscode-notebook-cell:/c%3A/Users/48919629/Desktop/smu/spring%2023/advanced%20logistics%20networks/project/solving_hlps/functions.ipynb#Y100sZmlsZQ%3D%3D?line=0'>1</a>\u001b[0m solve_dsp(z_hat, potential_hubs, new_hub_capacities, commodities)\n",
      "\u001b[1;32mc:\\Users\\48919629\\Desktop\\smu\\spring 23\\advanced logistics networks\\project\\solving_hlps\\functions.ipynb Cell 11\u001b[0m in \u001b[0;36msolve_dsp\u001b[1;34m(z_hat, potential_hubs, new_hub_capacities, commodities)\u001b[0m\n\u001b[0;32m     <a href='vscode-notebook-cell:/c%3A/Users/48919629/Desktop/smu/spring%2023/advanced%20logistics%20networks/project/solving_hlps/functions.ipynb#Y100sZmlsZQ%3D%3D?line=31'>32</a>\u001b[0m dsp\u001b[39m.\u001b[39mupdate()\n\u001b[0;32m     <a href='vscode-notebook-cell:/c%3A/Users/48919629/Desktop/smu/spring%2023/advanced%20logistics%20networks/project/solving_hlps/functions.ipynb#Y100sZmlsZQ%3D%3D?line=32'>33</a>\u001b[0m dsp\u001b[39m.\u001b[39mwrite(\u001b[39m\"\u001b[39m\u001b[39msolve_dsp.lp\u001b[39m\u001b[39m\"\u001b[39m)\n\u001b[1;32m---> <a href='vscode-notebook-cell:/c%3A/Users/48919629/Desktop/smu/spring%2023/advanced%20logistics%20networks/project/solving_hlps/functions.ipynb#Y100sZmlsZQ%3D%3D?line=33'>34</a>\u001b[0m dsp\u001b[39m.\u001b[39;49moptimize()\n\u001b[0;32m     <a href='vscode-notebook-cell:/c%3A/Users/48919629/Desktop/smu/spring%2023/advanced%20logistics%20networks/project/solving_hlps/functions.ipynb#Y100sZmlsZQ%3D%3D?line=35'>36</a>\u001b[0m \u001b[39m# optimal solution\u001b[39;00m\n\u001b[0;32m     <a href='vscode-notebook-cell:/c%3A/Users/48919629/Desktop/smu/spring%2023/advanced%20logistics%20networks/project/solving_hlps/functions.ipynb#Y100sZmlsZQ%3D%3D?line=36'>37</a>\u001b[0m \u001b[39mfor\u001b[39;00m var \u001b[39min\u001b[39;00m dsp\u001b[39m.\u001b[39mgetVars():\n",
      "File \u001b[1;32msrc\\gurobipy\\model.pxi:864\u001b[0m, in \u001b[0;36mgurobipy.Model.optimize\u001b[1;34m()\u001b[0m\n",
      "\u001b[1;31mGurobiError\u001b[0m: Model too large for size-limited license; visit https://www.gurobi.com/free-trial for a full license"
     ]
    }
   ],
   "source": [
    "solve_dsp(z_hat, potential_hubs, new_hub_capacities, commodities)"
   ]
  },
  {
   "attachments": {},
   "cell_type": "markdown",
   "metadata": {},
   "source": [
    "### Algorithm"
   ]
  },
  {
   "cell_type": "code",
   "execution_count": 7,
   "metadata": {},
   "outputs": [],
   "source": [
    "def benders_decomp():\n",
    "    \n",
    "    upper_bound = np.inf\n",
    "    t = 0\n",
    "    dsp_extreme_pts = []\n",
    "    terminate = False\n",
    "\n",
    "    while terminate == False:\n",
    "        master_opt_soln, master_opt_val = solver_master() \n",
    "\n",
    "        if master_opt_val == upper_bound:\n",
    "            terminate = True\n",
    "        else:\n",
    "            dsp_opt_soln, dsp_opt_val = solve_dual_subproblem()\n",
    "            dsp_extreme_pts.append(dsp_opt_soln)\n",
    "\n",
    "            if dsp_opt_val + ... < upper_bound:\n",
    "                upper_bound = dsp_opt_val + ...\n",
    "\n",
    "        t += 1\n",
    "\n",
    "    return None # benders_opt_soln"
   ]
  }
 ],
 "metadata": {
  "kernelspec": {
   "display_name": "Python 3",
   "language": "python",
   "name": "python3"
  },
  "language_info": {
   "codemirror_mode": {
    "name": "ipython",
    "version": 3
   },
   "file_extension": ".py",
   "mimetype": "text/x-python",
   "name": "python",
   "nbconvert_exporter": "python",
   "pygments_lexer": "ipython3",
   "version": "3.10.11"
  },
  "orig_nbformat": 4
 },
 "nbformat": 4,
 "nbformat_minor": 2
}
