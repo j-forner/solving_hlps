{
 "cells": [
  {
   "attachments": {},
   "cell_type": "markdown",
   "metadata": {},
   "source": [
    "### Imports"
   ]
  },
  {
   "cell_type": "code",
   "execution_count": 59,
   "metadata": {},
   "outputs": [],
   "source": [
    "%run \"./instance.ipynb\""
   ]
  },
  {
   "cell_type": "code",
   "execution_count": 9,
   "metadata": {},
   "outputs": [],
   "source": [
    "# import numpy as np\n",
    "# import gurobipy as gp\n",
    "# from gurobipy import GRB"
   ]
  },
  {
   "attachments": {},
   "cell_type": "markdown",
   "metadata": {},
   "source": [
    "### Optimization Problems"
   ]
  },
  {
   "cell_type": "code",
   "execution_count": 41,
   "metadata": {},
   "outputs": [],
   "source": [
    "def solve_master(potential_hubs, capacity_levels, new_hub_capacities, fixed_set_up_costs_with_capacity_level, commodities):\n",
    "\n",
    "    # model\n",
    "    master = gp.Model()\n",
    "\n",
    "    # variables + objective function\n",
    "    z = master.addVars(potential_hubs, capacity_levels, obj = fixed_set_up_costs_with_capacity_level, vtype = GRB.BINARY, name = \"z\")\n",
    "    eta = master.addVar(1, obj = 1, name = 'eta')\n",
    "\n",
    "    # model sense\n",
    "    master.ModelSense = GRB.MINIMIZE\n",
    "\n",
    "    # constraints (do I need Benders constraints at this point?)\n",
    "    master.addConstr(gp.quicksum(gp.quicksum(new_hub_capacities[i, q] * z[i, q] for i in potential_hubs) for q in capacity_levels) >= gp.quicksum(demand_flattened[k - 1] for k in commodities))\n",
    "    master.addConstrs(gp.quicksum(z[i, q] for q in capacity_levels) <= 1 for i in potential_hubs)\n",
    "\n",
    "    # update and solve the model\n",
    "    master.update()\n",
    "    master.optimize()\n",
    "\n",
    "    # optimal solution\n",
    "    for var in master.getVars():\n",
    "        print(f\"{var.VarName} = {var.x}\")\n",
    "\n",
    "    return None # master_opt_soln, master_opt_val"
   ]
  },
  {
   "cell_type": "code",
   "execution_count": 99,
   "metadata": {},
   "outputs": [],
   "source": [
    "def solve_dsp(potential_hubs, capacity_levels, new_hub_capacities, fixed_set_up_costs_with_capacity_level, commodities):\n",
    "\n",
    "    # model\n",
    "    dsp = gp.Model()\n",
    "\n",
    "    # variables + objective function\n",
    "    alpha = dsp.addVars(commodities, obj = 1, name = \"alpha\")\n",
    "    u = dsp.addVars(potential_hubs, commodities, obj = z_hat, lb = 0, name = \"u\") # check the objective function here (how to get z_hat into here?)\n",
    "    v = dsp.addVars(potential_hubs, obj = new_hub_capacities * z_hat, lb = 0, name = \"v\") # check the objective function here (how to get z_hat into here?)\n",
    "\n",
    "    # model sense\n",
    "    dsp.ModelSense = GRB.MAXIMIZE\n",
    "\n",
    "    # constraints\n",
    "    for i in potential_hubs:\n",
    "        for j in potential_hubs:\n",
    "            for k in commodities:\n",
    "                dsp.addConstr(alpha[k] - u[i, k] - u[j, k] - demand_flattened[k - 1] * v[i] <= cost_of_route(i, j, k))\n",
    "                dsp.addConstr(alpha[k] - u[i, k] - demand_flattened[k - 1] * v[i] <= cost_of_route(i, j, k))\n",
    "\n",
    "    # update and solve the model\n",
    "    dsp.update()\n",
    "    dsp.optimize()\n",
    "\n",
    "    # optimal solution\n",
    "    for var in dsp.getVars():\n",
    "        print(f\"{var.VarName} = {var.x}\")\n",
    "\n",
    "    return None # dsp_opt_soln, dsp_opt_val"
   ]
  },
  {
   "cell_type": "code",
   "execution_count": 100,
   "metadata": {},
   "outputs": [
    {
     "name": "stdout",
     "output_type": "stream",
     "text": [
      "Gurobi Optimizer version 9.5.1 build v9.5.1rc2 (win64)\n",
      "Thread count: 4 physical cores, 4 logical processors, using up to 4 threads\n"
     ]
    },
    {
     "ename": "GurobiError",
     "evalue": "Model too large for size-limited license; visit https://www.gurobi.com/free-trial for a full license",
     "output_type": "error",
     "traceback": [
      "\u001b[1;31m---------------------------------------------------------------------------\u001b[0m",
      "\u001b[1;31mGurobiError\u001b[0m                               Traceback (most recent call last)",
      "Cell \u001b[1;32mIn[100], line 21\u001b[0m\n\u001b[0;32m     19\u001b[0m \u001b[39m# update and solve the model\u001b[39;00m\n\u001b[0;32m     20\u001b[0m dsp\u001b[39m.\u001b[39mupdate()\n\u001b[1;32m---> 21\u001b[0m dsp\u001b[39m.\u001b[39;49moptimize()\n\u001b[0;32m     23\u001b[0m \u001b[39m# optimal solution\u001b[39;00m\n\u001b[0;32m     24\u001b[0m \u001b[39mfor\u001b[39;00m var \u001b[39min\u001b[39;00m dsp\u001b[39m.\u001b[39mgetVars():\n",
      "File \u001b[1;32msrc\\gurobipy\\model.pxi:864\u001b[0m, in \u001b[0;36mgurobipy.Model.optimize\u001b[1;34m()\u001b[0m\n",
      "\u001b[1;31mGurobiError\u001b[0m: Model too large for size-limited license; visit https://www.gurobi.com/free-trial for a full license"
     ]
    }
   ],
   "source": [
    "# model\n",
    "dsp = gp.Model()\n",
    "\n",
    "# variables + objective function\n",
    "alpha = dsp.addVars(commodities, obj = 1, name = \"alpha\")\n",
    "u = dsp.addVars(potential_hubs, commodities, obj = 1, lb = 0, name = \"u\") # check the objective function here\n",
    "v = dsp.addVars(potential_hubs, obj = 1, lb = 0, name = \"v\")\n",
    "\n",
    "# model sense\n",
    "dsp.ModelSense = GRB.MAXIMIZE\n",
    "\n",
    "# constraints\n",
    "for i in potential_hubs:\n",
    "    for j in potential_hubs:\n",
    "        for k in commodities:\n",
    "            dsp.addConstr(alpha[k] - u[i, k] - u[j, k] - demand_flattened[k - 1] * v[i] <= cost_of_route(i, j, k))\n",
    "            dsp.addConstr(alpha[k] - u[i, k] - demand_flattened[k - 1] * v[i] <= cost_of_route(i, j, k))\n",
    "\n",
    "# update and solve the model\n",
    "dsp.update()\n",
    "dsp.optimize()\n",
    "\n",
    "# optimal solution\n",
    "for var in dsp.getVars():\n",
    "    print(f\"{var.VarName} = {var.x}\")"
   ]
  },
  {
   "cell_type": "code",
   "execution_count": 6,
   "metadata": {},
   "outputs": [],
   "source": [
    "def solve_gap(commodities):\n",
    "\n",
    "    # model\n",
    "    gap = gp.Model()\n",
    "\n",
    "    # variables + objective function\n",
    "    x_hat = gap.addVars(a_i[k], commodities, obj = F, vtype = GRB.BINARY, name = \"x_hat\")\n",
    "\n",
    "    # model sense\n",
    "    gap.ModelSense = GRB.MINIMIZE\n",
    "\n",
    "    # constraints\n",
    "    gap.addConstrs(x[a_i[k], k] == 1 for k in commodities)\n",
    "    gap.addConstrs(gp.quicksum(demand_flattened[k - 1] * x[a_i[k], k] for k in K) <= b[i, q_hat] for i in H(S_prime))\n",
    "\n",
    "    # update and solve the model\n",
    "    gap.update()\n",
    "    gap.optimize()\n",
    "\n",
    "    # optimal solution\n",
    "    for var in gap.getVars():\n",
    "        print(f\"{var.VarName} = {var.x}\")\n",
    "\n",
    "    return None # gap_opt_soln, gap_opt_val\n"
   ]
  },
  {
   "cell_type": "code",
   "execution_count": 113,
   "metadata": {},
   "outputs": [],
   "source": [
    "def get_a_hat(i, k):\n",
    "\n",
    "    min_cost = np.inf\n",
    "\n",
    "    for j in nodes:\n",
    "        if cost_of_route(i, j, k) < min_cost:\n",
    "            min_cost = cost_of_route(i, j, k)\n",
    "    return min_cost"
   ]
  },
  {
   "cell_type": "code",
   "execution_count": 114,
   "metadata": {},
   "outputs": [
    {
     "data": {
      "text/plain": [
       "354145.5120034844"
      ]
     },
     "execution_count": 114,
     "metadata": {},
     "output_type": "execute_result"
    }
   ],
   "source": [
    "get_a_hat(1, 5)"
   ]
  },
  {
   "attachments": {},
   "cell_type": "markdown",
   "metadata": {},
   "source": [
    "### Algorithms"
   ]
  },
  {
   "cell_type": "code",
   "execution_count": 7,
   "metadata": {},
   "outputs": [],
   "source": [
    "def benders_decomp():\n",
    "    upper_bound = 0\n",
    "    t = 0\n",
    "    dsp_extreme_pts = set()\n",
    "    terminate = False\n",
    "\n",
    "    while terminate == False:\n",
    "        master_opt_soln, master_opt_val = solver_master() \n",
    "\n",
    "        if master_opt_val == upper_bound:\n",
    "            terminate = True\n",
    "        else:\n",
    "            dsp_opt_soln, dsp_opt_val = solve_dual_subproblem()\n",
    "            dsp_extreme_pts.add(dsp_opt_soln)\n",
    "\n",
    "            if dsp_opt_val + ... < upper_bound:\n",
    "                upper_bound = dsp_opt_val + ...\n",
    "\n",
    "        t += 1\n",
    "\n",
    "    return None # benders_opt_soln"
   ]
  },
  {
   "cell_type": "code",
   "execution_count": 12,
   "metadata": {},
   "outputs": [],
   "source": [
    "# def exact_nmchlp():\n",
    "#     master_opt_soln, master_opt_val = solver_master()\n",
    "#     gap_opt_soln, gap_opt_val = solver_master()\n",
    "#     upper_bound = min(min[...], gap_opt_soln, np.inf)\n",
    "\n",
    "#     for i, q in zip(H(S*), Q_i(S*)):\n",
    "#         z_iq = 0\n",
    "#         master_opt_soln, master_opt_val = solver_master()\n",
    "\n",
    "#         if master_opt_val > upper_bound:\n",
    "#             z_iq = 1\n",
    "        \n",
    "#     for i, q in zip(H*, Q_i*):\n",
    "#         z_iq = 1\n",
    "#         master_opt_soln, master_opt_val = solver_master()\n",
    "\n",
    "#         if master_opt_val > upper_bound:\n",
    "#             Q_i* = Q_i*.pop(q)\n",
    "\n",
    "#             if len(Q_i*) == 0:\n",
    "#                 H* = H*.pop(i)\n",
    "\n",
    "#     S = set((i, q) for i, q in zip(H*, Q_i*))\n",
    "\n",
    "#     for S' subset S s.t. (19), (20) hold:\n",
    "#         # Sovle GAP problem\n",
    "\n",
    "#         if phi(GAP(z(S'))) < UB:\n",
    "#             UB = phi(GAP(z(S')))\n",
    "                           \n",
    "#     return None"
   ]
  }
 ],
 "metadata": {
  "kernelspec": {
   "display_name": "Python 3",
   "language": "python",
   "name": "python3"
  },
  "language_info": {
   "codemirror_mode": {
    "name": "ipython",
    "version": 3
   },
   "file_extension": ".py",
   "mimetype": "text/x-python",
   "name": "python",
   "nbconvert_exporter": "python",
   "pygments_lexer": "ipython3",
   "version": "3.9.13"
  },
  "orig_nbformat": 4
 },
 "nbformat": 4,
 "nbformat_minor": 2
}
