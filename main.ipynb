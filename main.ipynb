{
 "cells": [
  {
   "attachments": {},
   "cell_type": "markdown",
   "metadata": {},
   "source": [
    "### Imports"
   ]
  },
  {
   "cell_type": "code",
   "execution_count": 41,
   "metadata": {},
   "outputs": [],
   "source": [
    "# python libraries\n",
    "import numpy as np\n",
    "import gurobipy as gp\n",
    "from gurobipy import GRB\n",
    "import matplotlib.pyplot as plt"
   ]
  },
  {
   "cell_type": "code",
   "execution_count": 42,
   "metadata": {},
   "outputs": [],
   "source": [
    "# importing the data into the main file\n",
    "%run \"./instance/instance_10.ipynb\""
   ]
  },
  {
   "cell_type": "code",
   "execution_count": 43,
   "metadata": {},
   "outputs": [],
   "source": [
    "# getting the necessary functions/algorithm into the main file\n",
    "%run \"./functions.ipynb\""
   ]
  },
  {
   "attachments": {},
   "cell_type": "markdown",
   "metadata": {},
   "source": [
    "### Defining the Master Problem"
   ]
  },
  {
   "cell_type": "code",
   "execution_count": 44,
   "metadata": {},
   "outputs": [],
   "source": [
    "# suppress Gurobi output\n",
    "environment = gp.Env(empty = True)\n",
    "environment.setParam(\"OutputFlag\", 0)\n",
    "environment.start()\n",
    "\n",
    "# model\n",
    "master = gp.Model('master', env = environment)\n",
    "\n",
    "# variables + objective function\n",
    "z = master.addVars(potential_hubs, capacity_levels, obj = fixed_set_up_costs_with_capacity_level, vtype = GRB.BINARY, name = \"z\")\n",
    "eta = master.addVar(1, obj = 1, name = 'eta')\n",
    "\n",
    "# model sense\n",
    "master.ModelSense = GRB.MINIMIZE\n",
    "\n",
    "# constraints\n",
    "master.addConstr(gp.quicksum(gp.quicksum(new_hub_capacities[i, q] * z[i, q] for i in potential_hubs) for q in capacity_levels) >= gp.quicksum(demand_flattened[k - 1] for k in commodities));\n",
    "master.addConstrs(gp.quicksum(z[i, q] for q in capacity_levels) <= 1 for i in potential_hubs);"
   ]
  },
  {
   "attachments": {},
   "cell_type": "markdown",
   "metadata": {},
   "source": [
    "### Run Benders decomposition"
   ]
  },
  {
   "cell_type": "code",
   "execution_count": 45,
   "metadata": {},
   "outputs": [
    {
     "ename": "GurobiError",
     "evalue": "Model too large for size-limited license; visit https://www.gurobi.com/free-trial for a full license",
     "output_type": "error",
     "traceback": [
      "\u001b[1;31m---------------------------------------------------------------------------\u001b[0m",
      "\u001b[1;31mGurobiError\u001b[0m                               Traceback (most recent call last)",
      "Cell \u001b[1;32mIn[45], line 1\u001b[0m\n\u001b[1;32m----> 1\u001b[0m z_hat, upper_bound \u001b[39m=\u001b[39m benders_decomp() \u001b[39m# <--- this code would not execute on my personal computer (only on my SMU computer), but assuming you have an academic Gurobi license, it should work\u001b[39;00m\n",
      "File \u001b[1;32m~\\AppData\\Local\\Temp\\ipykernel_13996\\1775053969.py:16\u001b[0m, in \u001b[0;36mbenders_decomp\u001b[1;34m()\u001b[0m\n\u001b[0;32m     14\u001b[0m     terminate \u001b[39m=\u001b[39m \u001b[39mTrue\u001b[39;00m\n\u001b[0;32m     15\u001b[0m \u001b[39melse\u001b[39;00m:\n\u001b[1;32m---> 16\u001b[0m     alpha_new, u_new, v_new, dsp_opt_val \u001b[39m=\u001b[39m solve_dsp(z_hat)\n\u001b[0;32m     17\u001b[0m     master\u001b[39m.\u001b[39maddConstr(eta \u001b[39m>\u001b[39m\u001b[39m=\u001b[39m gp\u001b[39m.\u001b[39mquicksum(alpha_new[k] \u001b[39mfor\u001b[39;00m k \u001b[39min\u001b[39;00m commodities) \n\u001b[0;32m     18\u001b[0m                           \u001b[39m-\u001b[39m gp\u001b[39m.\u001b[39mquicksum(z[i, q] \u001b[39m*\u001b[39m u_new[i, k] \u001b[39mfor\u001b[39;00m q \u001b[39min\u001b[39;00m capacity_levels \u001b[39mfor\u001b[39;00m i \u001b[39min\u001b[39;00m potential_hubs \u001b[39mfor\u001b[39;00m k \u001b[39min\u001b[39;00m commodities)\n\u001b[0;32m     19\u001b[0m                           \u001b[39m-\u001b[39m gp\u001b[39m.\u001b[39mquicksum(new_hub_capacities[i, q] \u001b[39m*\u001b[39m z[i, q] \u001b[39m*\u001b[39m v_new[i] \u001b[39mfor\u001b[39;00m q \u001b[39min\u001b[39;00m capacity_levels \u001b[39mfor\u001b[39;00m i \u001b[39min\u001b[39;00m potential_hubs))\n\u001b[0;32m     21\u001b[0m     \u001b[39mif\u001b[39;00m dsp_opt_val \u001b[39m+\u001b[39m setup_cost_from_master(potential_hubs, capacity_levels, fixed_set_up_costs_with_capacity_level, z_hat) \u001b[39m<\u001b[39m upper_bound:\n",
      "File \u001b[1;32m~\\AppData\\Local\\Temp\\ipykernel_13996\\3809209286.py:35\u001b[0m, in \u001b[0;36msolve_dsp\u001b[1;34m(z_hat)\u001b[0m\n\u001b[0;32m     33\u001b[0m dsp\u001b[39m.\u001b[39mupdate()\n\u001b[0;32m     34\u001b[0m dsp\u001b[39m.\u001b[39mwrite(\u001b[39m'\u001b[39m\u001b[39mdsp.lp\u001b[39m\u001b[39m'\u001b[39m)\n\u001b[1;32m---> 35\u001b[0m dsp\u001b[39m.\u001b[39;49moptimize()\n\u001b[0;32m     37\u001b[0m alpha_vals \u001b[39m=\u001b[39m {}\n\u001b[0;32m     38\u001b[0m u_vals \u001b[39m=\u001b[39m {}\n",
      "File \u001b[1;32msrc\\gurobipy\\model.pxi:864\u001b[0m, in \u001b[0;36mgurobipy.Model.optimize\u001b[1;34m()\u001b[0m\n",
      "\u001b[1;31mGurobiError\u001b[0m: Model too large for size-limited license; visit https://www.gurobi.com/free-trial for a full license"
     ]
    }
   ],
   "source": [
    "z_hat, upper_bound = benders_decomp() # <--- this code would not execute on my personal computer (only on my SMU computer), but assuming you have an academic Gurobi license, it should work"
   ]
  },
  {
   "cell_type": "code",
   "execution_count": 46,
   "metadata": {},
   "outputs": [
    {
     "ename": "NameError",
     "evalue": "name 'z_hat' is not defined",
     "output_type": "error",
     "traceback": [
      "\u001b[1;31m---------------------------------------------------------------------------\u001b[0m",
      "\u001b[1;31mNameError\u001b[0m                                 Traceback (most recent call last)",
      "Cell \u001b[1;32mIn[46], line 2\u001b[0m\n\u001b[0;32m      1\u001b[0m \u001b[39m# optimal hub decisions\u001b[39;00m\n\u001b[1;32m----> 2\u001b[0m z_hat \u001b[39m# <--- this code would not execute on my computer, but assuming you have an academic Gurobi license, it should work\u001b[39;00m\n",
      "\u001b[1;31mNameError\u001b[0m: name 'z_hat' is not defined"
     ]
    }
   ],
   "source": [
    "# optimal hub decisions\n",
    "z_hat # <--- this code would not execute on my computer, but assuming you have an academic Gurobi license, it should work"
   ]
  },
  {
   "attachments": {},
   "cell_type": "markdown",
   "metadata": {},
   "source": [
    "### Visualization"
   ]
  },
  {
   "cell_type": "code",
   "execution_count": 47,
   "metadata": {},
   "outputs": [
    {
     "data": {
      "image/png": "[encoded data removed]",
      "text/plain": [
       "<Figure size 640x480 with 1 Axes>"
      ]
     },
     "metadata": {},
     "output_type": "display_data"
    }
   ],
   "source": [
    "# There is a hub located at each potential location, indicated by the solid dots. Each hub is opened at the minimum capacity level.\n",
    "plt.scatter(x_coords, y_coords)\n",
    "plt.title('Hub Location Problem with 10 Nodes')\n",
    "plt.show()"
   ]
  }
 ],
 "metadata": {
  "kernelspec": {
   "display_name": "Python 3",
   "language": "python",
   "name": "python3"
  },
  "language_info": {
   "codemirror_mode": {
    "name": "ipython",
    "version": 3
   },
   "file_extension": ".py",
   "mimetype": "text/x-python",
   "name": "python",
   "nbconvert_exporter": "python",
   "pygments_lexer": "ipython3",
   "version": "3.9.13"
  },
  "orig_nbformat": 4
 },
 "nbformat": 4,
 "nbformat_minor": 2
}
